{
 "cells": [
  {
   "cell_type": "code",
   "execution_count": 6,
   "metadata": {},
   "outputs": [],
   "source": [
    "import datasets\n",
    "\n",
    "LANG = \"cpp\"\n",
    "problems = datasets.load_dataset(\"nuprl/MultiPL-E\", f\"humaneval-{LANG}\", split=\"test\")"
   ]
  },
  {
   "cell_type": "code",
   "execution_count": 7,
   "metadata": {},
   "outputs": [
    {
     "data": {
      "text/plain": [
       "{'name': 'HumanEval_23_strlen',\n",
       " 'language': 'cpp',\n",
       " 'prompt': '#include<assert.h>\\n#include<bits/stdc++.h>\\n// Return length of given string\\n// >>> string_length((\"\"))\\n// (0)\\n// >>> string_length((\"abc\"))\\n// (3)\\nlong string_length(std::string string) {\\n',\n",
       " 'doctests': 'transform',\n",
       " 'original': '/home/arjun/repos/nuprl/MultiPL-E/datasets/../datasets/originals-with-cleaned-doctests/HumanEval_23_strlen.py',\n",
       " 'prompt_terminology': 'reworded',\n",
       " 'tests': '}\\nint main() {\\n    auto candidate = string_length;\\n    assert(candidate((\"\")) == (0));\\n    assert(candidate((\"x\")) == (1));\\n    assert(candidate((\"asdasnakj\")) == (9));\\n}\\n',\n",
       " 'stop_tokens': ['\\n}']}"
      ]
     },
     "execution_count": 7,
     "metadata": {},
     "output_type": "execute_result"
    }
   ],
   "source": [
    "problems[0]"
   ]
  }
 ],
 "metadata": {
  "kernelspec": {
   "display_name": "harness",
   "language": "python",
   "name": "python3"
  },
  "language_info": {
   "codemirror_mode": {
    "name": "ipython",
    "version": 3
   },
   "file_extension": ".py",
   "mimetype": "text/x-python",
   "name": "python",
   "nbconvert_exporter": "python",
   "pygments_lexer": "ipython3",
   "version": "3.9.19"
  }
 },
 "nbformat": 4,
 "nbformat_minor": 2
}
